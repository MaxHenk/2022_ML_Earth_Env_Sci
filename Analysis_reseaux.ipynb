{
  "nbformat": 4,
  "nbformat_minor": 0,
  "metadata": {
    "colab": {
      "name": "Analysis_reseaux.ipynb",
      "provenance": [],
      "authorship_tag": "ABX9TyMEEngecGs57ZUILQbagEFz",
      "include_colab_link": true
    },
    "kernelspec": {
      "name": "python3",
      "display_name": "Python 3"
    },
    "language_info": {
      "name": "python"
    }
  },
  "cells": [
    {
      "cell_type": "markdown",
      "metadata": {
        "id": "view-in-github",
        "colab_type": "text"
      },
      "source": [
        "<a href=\"https://colab.research.google.com/github/MaxHenk/2022_ML_Earth_Env_Sci/blob/main/Analysis_reseaux.ipynb\" target=\"_parent\"><img src=\"https://colab.research.google.com/assets/colab-badge.svg\" alt=\"Open In Colab\"/></a>"
      ]
    },
    {
      "cell_type": "code",
      "execution_count": 41,
      "metadata": {
        "id": "GVGtLa2NX0xk"
      },
      "outputs": [],
      "source": [
        "#Import pandas package\n",
        "import pandas as pd\n",
        "import numpy as np\n",
        "from google.colab import files"
      ]
    },
    {
      "cell_type": "code",
      "source": [
        "#Import data frame\n",
        "url = 'https://raw.githubusercontent.com/MaxHenk/AnalysisNetwork/main/data/All_Links_LUR_Act2D_2019.csv?token=GHSAT0AAAAAABR26ETP2KHPNY4A7E2RIGOQYST6IMQ'\n",
        "df = pd.read_csv(url, sep=',')"
      ],
      "metadata": {
        "id": "l011PdD6YRcB"
      },
      "execution_count": 55,
      "outputs": []
    },
    {
      "cell_type": "code",
      "source": [
        "#Import LUR list\n",
        "lur_url = 'https://raw.githubusercontent.com/MaxHenk/AnalysisNetwork/main/data/5.%20TOTAL%20LUR%20LIST.csv?token=GHSAT0AAAAAABR26ETPPUZ5SNFOS27NOHXWYST4OPQ'\n",
        "df_lur = pd.read_csv(lur_url, sep=';')"
      ],
      "metadata": {
        "id": "bjZL8dkyyGcv"
      },
      "execution_count": null,
      "outputs": []
    },
    {
      "cell_type": "code",
      "source": [
        "#Get a list of all unique lurs\n",
        "o_uniquelur = list(df['o_id_lur'].unique())\n",
        "s_uniquelur = list(df['s_id_lur'].unique())\n",
        "#Merge the preceding lists with df_lur so they can have features. Those will be\n",
        "# the nodes files. \n"
      ],
      "metadata": {
        "id": "E2k6Yigo1T0r"
      },
      "execution_count": 56,
      "outputs": []
    },
    {
      "cell_type": "code",
      "source": [
        "unique_lurs = np.unique(o_uniquelur+s_uniquelur)"
      ],
      "metadata": {
        "id": "zT38AAlF6zuv"
      },
      "execution_count": 57,
      "outputs": []
    },
    {
      "cell_type": "code",
      "source": [
        "lur = df_lur[df_lur['id_lur'].isin(unique_lurs)]"
      ],
      "metadata": {
        "id": "YoPkydNgxUoF"
      },
      "execution_count": 58,
      "outputs": []
    },
    {
      "cell_type": "code",
      "source": [
        "lur.to_csv('lur.csv')\n",
        "files.download('lur.csv')"
      ],
      "metadata": {
        "colab": {
          "base_uri": "https://localhost:8080/",
          "height": 17
        },
        "id": "a-a0UQ9Hz08d",
        "outputId": "0a713074-ff99-4b37-a0dc-84426d5b2be8"
      },
      "execution_count": 59,
      "outputs": [
        {
          "output_type": "display_data",
          "data": {
            "text/plain": [
              "<IPython.core.display.Javascript object>"
            ],
            "application/javascript": [
              "\n",
              "    async function download(id, filename, size) {\n",
              "      if (!google.colab.kernel.accessAllowed) {\n",
              "        return;\n",
              "      }\n",
              "      const div = document.createElement('div');\n",
              "      const label = document.createElement('label');\n",
              "      label.textContent = `Downloading \"${filename}\": `;\n",
              "      div.appendChild(label);\n",
              "      const progress = document.createElement('progress');\n",
              "      progress.max = size;\n",
              "      div.appendChild(progress);\n",
              "      document.body.appendChild(div);\n",
              "\n",
              "      const buffers = [];\n",
              "      let downloaded = 0;\n",
              "\n",
              "      const channel = await google.colab.kernel.comms.open(id);\n",
              "      // Send a message to notify the kernel that we're ready.\n",
              "      channel.send({})\n",
              "\n",
              "      for await (const message of channel.messages) {\n",
              "        // Send a message to notify the kernel that we're ready.\n",
              "        channel.send({})\n",
              "        if (message.buffers) {\n",
              "          for (const buffer of message.buffers) {\n",
              "            buffers.push(buffer);\n",
              "            downloaded += buffer.byteLength;\n",
              "            progress.value = downloaded;\n",
              "          }\n",
              "        }\n",
              "      }\n",
              "      const blob = new Blob(buffers, {type: 'application/binary'});\n",
              "      const a = document.createElement('a');\n",
              "      a.href = window.URL.createObjectURL(blob);\n",
              "      a.download = filename;\n",
              "      div.appendChild(a);\n",
              "      a.click();\n",
              "      div.remove();\n",
              "    }\n",
              "  "
            ]
          },
          "metadata": {}
        },
        {
          "output_type": "display_data",
          "data": {
            "text/plain": [
              "<IPython.core.display.Javascript object>"
            ],
            "application/javascript": [
              "download(\"download_d2404478-5d87-4d94-9521-db8c1e2a9e5c\", \"lur.csv\", 84588)"
            ]
          },
          "metadata": {}
        }
      ]
    }
  ]
}